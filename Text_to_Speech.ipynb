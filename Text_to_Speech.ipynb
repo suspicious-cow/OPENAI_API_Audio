{
 "cells": [
  {
   "cell_type": "markdown",
   "metadata": {},
   "source": [
    "# Working with Audio"
   ]
  },
  {
   "cell_type": "markdown",
   "metadata": {},
   "source": [
    "## Univeral Code Used for the Entire Notebook\n",
    "\n",
    "Let's set up our libraries and client"
   ]
  },
  {
   "cell_type": "code",
   "execution_count": null,
   "metadata": {},
   "outputs": [],
   "source": [
    "# Install necessary packages for handling sound files and sound devices\n",
    "# Uncomment the following line if you need to install the packages\n",
    "# !pip install soundfile sounddevice\n"
   ]
  },
  {
   "cell_type": "code",
   "execution_count": null,
   "metadata": {},
   "outputs": [],
   "source": [
    "import os  # os module for interacting with the operating system\n",
    "import requests  # requests module for making HTTP requests\n",
    "from io import BytesIO  # BytesIO module for handling byte streams\n",
    "\n",
    "import soundfile as sf  # soundfile module for reading and writing sound files\n",
    "import sounddevice as sd  # sounddevice module for playing and recording sound\n",
    "\n",
    "from IPython.display import Audio, display  # IPython display modules for displaying audio\n",
    "\n",
    "from openai import OpenAI  # OpenAI module for interacting with OpenAI API\n"
   ]
  },
  {
   "cell_type": "code",
   "execution_count": null,
   "metadata": {},
   "outputs": [],
   "source": [
    "client = OpenAI()  # Initialize the OpenAI client\n"
   ]
  },
  {
   "cell_type": "markdown",
   "metadata": {},
   "source": [
    "### Getting Audio without Streaming"
   ]
  },
  {
   "cell_type": "markdown",
   "metadata": {},
   "source": [
    "Using the openai api library approach"
   ]
  },
  {
   "cell_type": "code",
   "execution_count": null,
   "metadata": {},
   "outputs": [],
   "source": [
    "# Define the speech file path\n",
    "speech_file_path = \"./fight_on_the_beaches.mp3\"\n",
    "\n",
    "# Create the TTS (Text-to-Speech) request\n",
    "response = client.audio.speech.create(\n",
    "    model=\"tts-1-hd\",  # Specify the TTS model to use\n",
    "    voice=\"fable\",  # Specify the voice to use for the TTS\n",
    "    input=\"\"\"\n",
    "    Even though large tracts of Europe and many old and famous States have fallen or may fall into the grip of the Gestapo and all the odious apparatus of Nazi rule, we shall not flag or fail. We shall go on to the end, we shall fight in France, we shall fight on the seas and oceans, we shall fight with growing confidence and growing strength in the air, we shall defend our Island, whatever the cost may be, we shall fight on the beaches, we shall fight on the landing grounds, we shall fight in the fields and in the streets, we shall fight in the hills; we shall never surrender, and even if, which I do not for a moment believe, this Island or a large part of it were subjugated and starving, then our Empire beyond the seas, armed and guarded by the British Fleet, would carry on the struggle, until, in God’s good time, the New World, with all its power and might, steps forth to the rescue and the liberation of the old.\n",
    "    \"\"\"  # Input text to be converted to speech\n",
    ")\n",
    "\n",
    "# Save the response audio to a file\n",
    "with open(speech_file_path, 'wb') as file:\n",
    "    file.write(response.content)  # Write the audio content to the file\n",
    "\n",
    "# Print a message indicating where the audio was saved\n",
    "print(f\"Audio saved to {speech_file_path}\")\n"
   ]
  },
  {
   "cell_type": "markdown",
   "metadata": {},
   "source": [
    "Using the API endpoint approach"
   ]
  },
  {
   "cell_type": "code",
   "execution_count": null,
   "metadata": {},
   "outputs": [],
   "source": [
    "\n",
    "# Define the speech file path\n",
    "speech_file_path = \"./old_soldiers_never_die.mp3\"\n",
    "api_key = os.getenv(\"OPENAI_API_KEY\")\n",
    "\n",
    "# API endpoint and headers\n",
    "url = \"https://api.openai.com/v1/audio/speech\"\n",
    "headers = {\n",
    "    \"Authorization\": f\"Bearer {api_key}\",\n",
    "    \"Content-Type\": \"application/json\"\n",
    "}\n",
    "\n",
    "# Data payload for the request\n",
    "data = {\n",
    "    \"model\": \"tts-1\",\n",
    "    \"voice\": \"shimmer\",\n",
    "    \"input\": \"\"\"\n",
    "    I still remember the refrain of one of the most popular barracks ballads of that day which proclaimed most proudly that old soldiers never die; they just fade away. And like the old soldier of that ballad, I now close my military career and just fade away, an old soldier who tried to do his duty as God gave him the light to see that duty.\n",
    "    \"\"\"\n",
    "}\n",
    "\n",
    "# Make the synchronous request\n",
    "response = requests.post(url, headers=headers, json=data)\n",
    "\n",
    "# Check if the request was successful\n",
    "if response.status_code == 200:\n",
    "    with open(speech_file_path, 'wb') as file:\n",
    "        file.write(response.content)\n",
    "    print(f\"Audio saved to {speech_file_path}\")\n",
    "else:\n",
    "    print(f\"Error: {response.status_code} - {response.text}\")\n"
   ]
  },
  {
   "cell_type": "markdown",
   "metadata": {},
   "source": [
    "Chat Completion to Audio without End-to-End Streaming"
   ]
  },
  {
   "cell_type": "code",
   "execution_count": null,
   "metadata": {},
   "outputs": [],
   "source": [
    "from openai import OpenAI  # Import OpenAI module for interacting with the OpenAI API\n",
    "import os  # os module for interacting with the operating system\n",
    "import requests  # requests module for making HTTP requests\n",
    "import soundfile as sf  # soundfile module for reading and writing sound files\n",
    "import sounddevice as sd  # sounddevice module for playing and recording sound\n",
    "from io import BytesIO  # BytesIO module for handling byte streams\n",
    "\n",
    "# Set up OpenAI API key\n",
    "api_key = os.getenv(\"OPENAI_API_KEY\")\n",
    "\n",
    "# Initialize the OpenAI client\n",
    "client = OpenAI()\n",
    "\n",
    "# Define the speech file path\n",
    "speech_file_path = \"./war_message_to_congress.mp3\"\n",
    "\n",
    "# Create the chat completion request\n",
    "chat_completion = client.chat.completions.create(\n",
    "    model=\"gpt-4o\",  # Specify the model to use\n",
    "    messages=[\n",
    "        {\"role\": \"system\", \"content\": \"You are a helpful assistant.\"},  # System message to set the assistant's behavior\n",
    "        {\"role\": \"user\", \"content\": \"Give me one paragraph on penguins\"}  # User message to initiate the conversation\n",
    "    ],\n",
    "    stream=True  # Enable streaming responses\n",
    ")\n",
    "\n",
    "# Capture the chat output in real-time\n",
    "chat_output = \"\"\n",
    "for chunk in chat_completion:\n",
    "    delta = chunk.choices[0].delta\n",
    "    content = getattr(delta, 'content', None)  # Safely get the content attribute\n",
    "    if content:\n",
    "        print(content, end='')  # Print without newline to maintain the flow\n",
    "        chat_output += content\n",
    "\n",
    "# API endpoint and headers for TTS\n",
    "url = \"https://api.openai.com/v1/audio/speech\"\n",
    "headers = {\n",
    "    \"Authorization\": f\"Bearer {api_key}\",\n",
    "    \"Content-Type\": \"application/json\"\n",
    "}\n",
    "\n",
    "# Data payload for the TTS request\n",
    "data = {\n",
    "    \"model\": \"tts-1-hd\",\n",
    "    \"voice\": \"onyx\",\n",
    "    \"input\": chat_output,  # Use chat output as input for TTS\n",
    "    \"response_format\": \"mp3\"  # Use MP3 format for response\n",
    "}\n",
    "\n",
    "# Make the TTS request with streaming enabled\n",
    "response = requests.post(url, headers=headers, json=data, stream=True)\n",
    "\n",
    "# Check if the TTS request was successful\n",
    "if response.status_code == 200:\n",
    "    buffer = BytesIO()\n",
    "\n",
    "    # Save audio chunks to file and buffer\n",
    "    with open(speech_file_path, 'wb') as file:\n",
    "        for chunk in response.iter_content(chunk_size=1024):\n",
    "            if chunk:\n",
    "                file.write(chunk)\n",
    "                buffer.write(chunk)\n",
    "    \n",
    "    buffer.seek(0)\n",
    "    \n",
    "    # Read and play the audio from the buffer\n",
    "    data, samplerate = sf.read(buffer)\n",
    "    sd.play(data, samplerate)\n",
    "    sd.wait()  # Wait until the audio playback is done\n",
    "\n",
    "    print(f\"Audio saved to {speech_file_path}\")\n",
    "else:\n",
    "    print(f\"Error: {response.status_code} - {response.text}\")\n"
   ]
  },
  {
   "cell_type": "markdown",
   "metadata": {},
   "source": [
    "### Streaming Audio"
   ]
  },
  {
   "cell_type": "markdown",
   "metadata": {},
   "source": [
    "Using the openai api library approach\n",
    "\n",
    "(doesn't work)"
   ]
  },
  {
   "cell_type": "code",
   "execution_count": null,
   "metadata": {},
   "outputs": [],
   "source": [
    "# Define the speech file path\n",
    "speech_file_path = \"./wonderfulday.mp3\"\n",
    "\n",
    "# Create the TTS (Text-to-Speech) request\n",
    "response = client.audio.speech.create(\n",
    "    model=\"tts-1\",  # Specify the TTS model to use\n",
    "    voice=\"alloy\",  # Specify the voice to use for the TTS\n",
    "    input=\"Today is a wonderful day to build something people love!\"  # Input text to be converted to speech\n",
    ")\n",
    "\n",
    "# Save the response audio to a file using stream_to_file method\n",
    "response.stream_to_file(speech_file_path)\n",
    "\n",
    "# Print a message indicating where the audio was saved\n",
    "print(f\"Audio saved to {speech_file_path}\")\n"
   ]
  },
  {
   "cell_type": "markdown",
   "metadata": {},
   "source": [
    "Using the API endpoint approach"
   ]
  },
  {
   "cell_type": "code",
   "execution_count": null,
   "metadata": {},
   "outputs": [],
   "source": [
    "# Set up OpenAI API key\n",
    "api_key = os.getenv(\"OPENAI_API_KEY\")\n",
    "\n",
    "# Define the speech file path\n",
    "speech_file_path = \"./war_message_to_congress.mp3\"\n",
    "\n",
    "# API endpoint and headers\n",
    "url = \"https://api.openai.com/v1/audio/speech\"\n",
    "headers = {\n",
    "    \"Authorization\": f\"Bearer {api_key}\",\n",
    "    \"Content-Type\": \"application/json\"\n",
    "}\n",
    "\n",
    "# Data payload for the request\n",
    "data = {\n",
    "    \"model\": \"tts-1-hd\",\n",
    "    \"voice\": \"onyx\",\n",
    "    \"input\": \"\"\"\n",
    "    The present German submarine warfare against commerce is a warfare against mankind.\n",
    "\n",
    "It is war against all nations.\n",
    "\n",
    "American ships have been sunk, American lives taken, in ways which it has stirred us very deeply to learn of, but the ships and people of other neutral and friendly nations have been sunk and overwhelmed in the waters in the same way. There has been no discrimination. The challenge is to all mankind.\n",
    "\n",
    "Each nation must decide for itself how it will meet it. The choice we make for ourselves must be made with a moderation of counsel and temperateness of judgment befitting our character and our motives as a nation. We must put excited feeling away. Our motive will not be revenge or the victorious assertion of the physical might of the nation, but only the vindication of right, of human right, of which we are only a single champion.\n",
    "    \"\"\",\n",
    "    \"response_format\": \"mp3\"  # Use MP3 format for response\n",
    "}\n",
    "\n",
    "# Make the request with streaming enabled\n",
    "response = requests.post(url, headers=headers, json=data, stream=True)\n",
    "\n",
    "# Check if the request was successful\n",
    "if response.status_code == 200:\n",
    "    buffer = BytesIO()\n",
    "\n",
    "    # Save audio chunks to file and buffer\n",
    "    with open(speech_file_path, 'wb') as file:\n",
    "        for chunk in response.iter_content(chunk_size=1024):\n",
    "            if chunk:\n",
    "                file.write(chunk)\n",
    "                buffer.write(chunk)\n",
    "    \n",
    "    buffer.seek(0)\n",
    "    \n",
    "    # Read and play the audio from the buffer\n",
    "    data, samplerate = sf.read(buffer)\n",
    "    sd.play(data, samplerate)\n",
    "    sd.wait()  # Wait until the audio playback is done\n",
    "\n",
    "    print(f\"Audio saved to {speech_file_path}\")\n",
    "else:\n",
    "    print(f\"Error: {response.status_code} - {response.text}\")\n"
   ]
  },
  {
   "cell_type": "markdown",
   "metadata": {},
   "source": [
    "## Streaming Chat Completions to TTS for Input"
   ]
  },
  {
   "cell_type": "code",
   "execution_count": null,
   "metadata": {},
   "outputs": [],
   "source": [
    "\n",
    "# Create the chat completion request\n",
    "completion = client.chat.completions.create(\n",
    "    model=\"gpt-4o\",  # Specify the model to use\n",
    "    messages=[\n",
    "        {\"role\": \"system\", \"content\": \"You are a helpful assistant.\"},  # System message to set the assistant's behavior\n",
    "        {\"role\": \"user\", \"content\": \"Give me one paragraph on penguins\"}  # User message to initiate the conversation\n",
    "    ],\n",
    "    stream=True  # Enable streaming responses\n",
    ")\n",
    "\n",
    "# Iterate over the streamed response chunks and print the content\n",
    "for chunk in completion:\n",
    "    delta = chunk.choices[0].delta\n",
    "    content = getattr(delta, 'content', None)  # Safely get the content attribute\n",
    "    if content:\n",
    "        print(content, end='')  # Print without newline to maintain the flow\n"
   ]
  },
  {
   "cell_type": "code",
   "execution_count": null,
   "metadata": {},
   "outputs": [],
   "source": [
    "\n",
    "# Set up OpenAI API key\n",
    "api_key = os.getenv(\"OPENAI_API_KEY\")\n",
    "\n",
    "# Initialize the OpenAI client\n",
    "client = OpenAI()\n",
    "\n",
    "# Define the speech file path\n",
    "speech_file_path = \"./war_message_to_congress.mp3\"\n",
    "\n",
    "# Create the chat completion request\n",
    "chat_completion = client.chat.completions.create(\n",
    "    model=\"gpt-4o\",  # Specify the model to use\n",
    "    messages=[\n",
    "        {\"role\": \"system\", \"content\": \"You are a helpful assistant.\"},  # System message to set the assistant's behavior\n",
    "        {\"role\": \"user\", \"content\": \"Give me one paragraph on penguins\"}  # User message to initiate the conversation\n",
    "    ],\n",
    "    stream=True  # Enable streaming responses\n",
    ")\n",
    "\n",
    "# Capture the chat output in real-time\n",
    "chat_output = \"\"\n",
    "for chunk in chat_completion:\n",
    "    delta = chunk.choices[0].delta\n",
    "    content = getattr(delta, 'content', None)  # Safely get the content attribute\n",
    "    if content:\n",
    "        print(content, end='')  # Print without newline to maintain the flow\n",
    "        chat_output += content\n",
    "\n",
    "# API endpoint and headers for TTS\n",
    "url = \"https://api.openai.com/v1/audio/speech\"\n",
    "headers = {\n",
    "    \"Authorization\": f\"Bearer {api_key}\",\n",
    "    \"Content-Type\": \"application/json\"\n",
    "}\n",
    "\n",
    "# Data payload for the TTS request\n",
    "data = {\n",
    "    \"model\": \"tts-1-hd\",\n",
    "    \"voice\": \"onyx\",\n",
    "    \"input\": chat_output,  # Use chat output as input for TTS\n",
    "    \"response_format\": \"mp3\"  # Use MP3 format for response\n",
    "}\n",
    "\n",
    "# Make the TTS request with streaming enabled\n",
    "response = requests.post(url, headers=headers, json=data, stream=True)\n",
    "\n",
    "# Check if the TTS request was successful\n",
    "if response.status_code == 200:\n",
    "    buffer = BytesIO()\n",
    "\n",
    "    # Save audio chunks to file and buffer\n",
    "    with open(speech_file_path, 'wb') as file:\n",
    "        for chunk in response.iter_content(chunk_size=1024):\n",
    "            if chunk:\n",
    "                file.write(chunk)\n",
    "                buffer.write(chunk)\n",
    "    \n",
    "    buffer.seek(0)\n",
    "    \n",
    "    # Read and play the audio from the buffer\n",
    "    data, samplerate = sf.read(buffer)\n",
    "    sd.play(data, samplerate)\n",
    "    sd.wait()  # Wait until the audio playback is done\n",
    "\n",
    "    print(f\"Audio saved to {speech_file_path}\")\n",
    "else:\n",
    "    print(f\"Error: {response.status_code} - {response.text}\")\n"
   ]
  }
 ],
 "metadata": {
  "kernelspec": {
   "display_name": "NormalProgramming",
   "language": "python",
   "name": "python3"
  },
  "language_info": {
   "codemirror_mode": {
    "name": "ipython",
    "version": 3
   },
   "file_extension": ".py",
   "mimetype": "text/x-python",
   "name": "python",
   "nbconvert_exporter": "python",
   "pygments_lexer": "ipython3",
   "version": "3.11.4"
  }
 },
 "nbformat": 4,
 "nbformat_minor": 2
}
