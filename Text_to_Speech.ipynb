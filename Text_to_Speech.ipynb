{
 "cells": [
  {
   "cell_type": "markdown",
   "metadata": {},
   "source": [
    "# Working with Audio"
   ]
  },
  {
   "cell_type": "markdown",
   "metadata": {},
   "source": [
    "## Univeral Code Used for the Entire Notebook\n",
    "\n",
    "Let's set up our libraries and client"
   ]
  },
  {
   "cell_type": "code",
   "execution_count": null,
   "metadata": {},
   "outputs": [],
   "source": [
    "# ! pip install soundfile sounddevice"
   ]
  },
  {
   "cell_type": "code",
   "execution_count": 29,
   "metadata": {},
   "outputs": [],
   "source": [
    "from openai import OpenAI\n",
    "import os\n",
    "import requests\n",
    "from IPython.display import Audio, display\n",
    "import soundfile as sf\n",
    "import sounddevice as sd\n",
    "from io import BytesIO"
   ]
  },
  {
   "cell_type": "code",
   "execution_count": 2,
   "metadata": {},
   "outputs": [],
   "source": [
    "client = OpenAI()"
   ]
  },
  {
   "cell_type": "markdown",
   "metadata": {},
   "source": [
    "### Getting Audio without Streaming"
   ]
  },
  {
   "cell_type": "code",
   "execution_count": 30,
   "metadata": {},
   "outputs": [
    {
     "name": "stdout",
     "output_type": "stream",
     "text": [
      "Audio saved to ./fight_on_the_beaches.mp3\n"
     ]
    }
   ],
   "source": [
    "\n",
    "# Define the speech file path\n",
    "speech_file_path = \"./fight_on_the_beaches.mp3\"\n",
    "\n",
    "# Create the TTS request\n",
    "response = client.audio.speech.create(\n",
    "    model=\"tts-1-hd\",\n",
    "    voice=\"fable\",\n",
    "    input=\"\"\"\n",
    "    Even though large tracts of Europe and many old and famous States have fallen or may fall into the grip of the Gestapo and all the odious apparatus of Nazi rule, we shall not flag or fail. We shall go on to the end, we shall fight in France, we shall fight on the seas and oceans, we shall fight with growing confidence and growing strength in the air, we shall defend our Island, whatever the cost may be, we shall fight on the beaches, we shall fight on the landing grounds, we shall fight in the fields and in the streets, we shall fight in the hills; we shall never surrender, and even if, which I do not for a moment believe, this Island or a large part of it were subjugated and starving, then our Empire beyond the seas, armed and guarded by the British Fleet, would carry on the struggle, until, in God’s good time, the New World, with all its power and might, steps forth to the rescue and the liberation of the old.\n",
    "    \"\"\"\n",
    ")\n",
    "\n",
    "# Save the response audio to a file\n",
    "with open(speech_file_path, 'wb') as file:\n",
    "    file.write(response.content)\n",
    "\n",
    "print(f\"Audio saved to {speech_file_path}\")\n"
   ]
  },
  {
   "cell_type": "code",
   "execution_count": 31,
   "metadata": {},
   "outputs": [
    {
     "name": "stdout",
     "output_type": "stream",
     "text": [
      "Audio saved to ./old_soldiers_never_die.mp3\n"
     ]
    }
   ],
   "source": [
    "\n",
    "# Define the speech file path\n",
    "speech_file_path = \"./old_soldiers_never_die.mp3\"\n",
    "api_key = os.getenv(\"OPENAI_API_KEY\")\n",
    "\n",
    "# API endpoint and headers\n",
    "url = \"https://api.openai.com/v1/audio/speech\"\n",
    "headers = {\n",
    "    \"Authorization\": f\"Bearer {api_key}\",\n",
    "    \"Content-Type\": \"application/json\"\n",
    "}\n",
    "\n",
    "# Data payload for the request\n",
    "data = {\n",
    "    \"model\": \"tts-1\",\n",
    "    \"voice\": \"shimmer\",\n",
    "    \"input\": \"\"\"\n",
    "    I still remember the refrain of one of the most popular barracks ballads of that day which proclaimed most proudly that old soldiers never die; they just fade away. And like the old soldier of that ballad, I now close my military career and just fade away, an old soldier who tried to do his duty as God gave him the light to see that duty.\n",
    "    \"\"\"\n",
    "}\n",
    "\n",
    "# Make the synchronous request\n",
    "response = requests.post(url, headers=headers, json=data)\n",
    "\n",
    "# Check if the request was successful\n",
    "if response.status_code == 200:\n",
    "    with open(speech_file_path, 'wb') as file:\n",
    "        file.write(response.content)\n",
    "    print(f\"Audio saved to {speech_file_path}\")\n",
    "else:\n",
    "    print(f\"Error: {response.status_code} - {response.text}\")\n"
   ]
  },
  {
   "cell_type": "markdown",
   "metadata": {},
   "source": [
    "### Streaming Audio"
   ]
  },
  {
   "cell_type": "code",
   "execution_count": 4,
   "metadata": {},
   "outputs": [
    {
     "name": "stderr",
     "output_type": "stream",
     "text": [
      "C:\\Users\\Zain\\AppData\\Local\\Temp\\ipykernel_18872\\272208559.py:8: DeprecationWarning: Due to a bug, this method doesn't actually stream the response content, `.with_streaming_response.method()` should be used instead\n",
      "  response.stream_to_file(speech_file_path)\n"
     ]
    }
   ],
   "source": [
    "speech_file_path = \"./wonderfulday.mp3\"\n",
    "response = client.audio.speech.create(\n",
    "    model=\"tts-1\",\n",
    "    voice=\"alloy\",\n",
    "    input=\"Today is a wonderful day to build something people love!\"\n",
    ")\n",
    "\n",
    "response.stream_to_file(speech_file_path)"
   ]
  },
  {
   "cell_type": "code",
   "execution_count": 32,
   "metadata": {},
   "outputs": [
    {
     "name": "stdout",
     "output_type": "stream",
     "text": [
      "Audio saved to ./wonderfulday_actual_stream.mp3\n"
     ]
    }
   ],
   "source": [
    "# Set up OpenAI API key\n",
    "api_key = os.getenv(\"OPENAI_API_KEY\")\n",
    "\n",
    "# Define the speech file path\n",
    "speech_file_path = \"./war_message_to_congress.mp3\"\n",
    "\n",
    "# API endpoint and headers\n",
    "url = \"https://api.openai.com/v1/audio/speech\"\n",
    "headers = {\n",
    "    \"Authorization\": f\"Bearer {api_key}\",\n",
    "    \"Content-Type\": \"application/json\"\n",
    "}\n",
    "\n",
    "# Data payload for the request\n",
    "data = {\n",
    "    \"model\": \"tts-1-hd\",\n",
    "    \"voice\": \"onyx\",\n",
    "    \"input\": \"\"\"\n",
    "    The present German submarine warfare against commerce is a warfare against mankind.\n",
    "\n",
    "It is war against all nations.\n",
    "\n",
    "American ships have been sunk, American lives taken, in ways which it has stirred us very deeply to learn of, but the ships and people of other neutral and friendly nations have been sunk and overwhelmed in the waters in the same way. There has been no discrimination. The challenge is to all mankind.\n",
    "\n",
    "Each nation must decide for itself how it will meet it. The choice we make for ourselves must be made with a moderation of counsel and temperateness of judgment befitting our character and our motives as a nation. We must put excited feeling away. Our motive will not be revenge or the victorious assertion of the physical might of the nation, but only the vindication of right, of human right, of which we are only a single champion.\n",
    "    \"\"\",\n",
    "    \"response_format\": \"mp3\"  # Use MP3 format for response\n",
    "}\n",
    "\n",
    "# Make the request with streaming enabled\n",
    "response = requests.post(url, headers=headers, json=data, stream=True)\n",
    "\n",
    "# Check if the request was successful\n",
    "if response.status_code == 200:\n",
    "    buffer = BytesIO()\n",
    "\n",
    "    # Save audio chunks to file and buffer\n",
    "    with open(speech_file_path, 'wb') as file:\n",
    "        for chunk in response.iter_content(chunk_size=1024):\n",
    "            if chunk:\n",
    "                file.write(chunk)\n",
    "                buffer.write(chunk)\n",
    "    \n",
    "    buffer.seek(0)\n",
    "    \n",
    "    # Read and play the audio from the buffer\n",
    "    data, samplerate = sf.read(buffer)\n",
    "    sd.play(data, samplerate)\n",
    "    sd.wait()  # Wait until the audio playback is done\n",
    "\n",
    "    print(f\"Audio saved to {speech_file_path}\")\n",
    "else:\n",
    "    print(f\"Error: {response.status_code} - {response.text}\")\n"
   ]
  }
 ],
 "metadata": {
  "kernelspec": {
   "display_name": "NormalProgramming",
   "language": "python",
   "name": "python3"
  },
  "language_info": {
   "codemirror_mode": {
    "name": "ipython",
    "version": 3
   },
   "file_extension": ".py",
   "mimetype": "text/x-python",
   "name": "python",
   "nbconvert_exporter": "python",
   "pygments_lexer": "ipython3",
   "version": "3.11.4"
  }
 },
 "nbformat": 4,
 "nbformat_minor": 2
}
