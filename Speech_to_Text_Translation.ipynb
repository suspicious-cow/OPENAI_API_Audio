{
 "cells": [
  {
   "cell_type": "markdown",
   "metadata": {},
   "source": [
    "# Working with Audio - Whisper (Speech-to-Text) \n",
    "# Translation"
   ]
  },
  {
   "cell_type": "markdown",
   "metadata": {},
   "source": [
    "## Univeral Code Used for the Entire Notebook\n",
    "\n",
    "Let's set up our libraries and client"
   ]
  },
  {
   "cell_type": "code",
   "execution_count": 1,
   "metadata": {},
   "outputs": [],
   "source": [
    "from openai import OpenAI  # For OpenAI API and event handling"
   ]
  },
  {
   "cell_type": "code",
   "execution_count": 2,
   "metadata": {},
   "outputs": [],
   "source": [
    "# Initialize the OpenAI client\n",
    "client = OpenAI()  "
   ]
  },
  {
   "cell_type": "markdown",
   "metadata": {},
   "source": [
    "## Simple Translation\n",
    "\n",
    "#### Japanese to English"
   ]
  },
  {
   "cell_type": "code",
   "execution_count": 4,
   "metadata": {},
   "outputs": [
    {
     "name": "stdout",
     "output_type": "stream",
     "text": [
      "I couldn't do it. After I started studying Japanese, COVID-19 started immediately. Because of COVID-19, I couldn't take the Japanese language test in Belarus. And I couldn't do it at all. I couldn't take the Japanese language test in Belarus. But now you can take the test anywhere. If you are interested, you can take the test. When I started studying Japanese, I had to take the test. Will you take the test next month? No, in July. It's quite early. Will you study JLPT in the Japanese language school? Yes, I think so. The school said so. I think I will study JLPT in the school curriculum. Then you will take the JLPT test, right? Yes. But you don't have to go to the Japanese language school, do you? I want to live in Japan. That's the only way. You can get a student visa.\n"
     ]
    }
   ],
   "source": [
    "\n",
    "audio_file = open(\"./artifacts/japanese_audio_test.mp4\", \"rb\")\n",
    "\n",
    "transcript = client.audio.translations.create(\n",
    "    model=\"whisper-1\",\n",
    "    file=audio_file\n",
    ")\n",
    "\n",
    "print(transcript.text)\n"
   ]
  },
  {
   "cell_type": "markdown",
   "metadata": {},
   "source": [
    "## Temperature\n",
    "\n",
    "#### Japanese to English"
   ]
  },
  {
   "cell_type": "code",
   "execution_count": 5,
   "metadata": {},
   "outputs": [
    {
     "name": "stdout",
     "output_type": "stream",
     "text": [
      "I couldn't do it. After I started studying Japanese, the coronavirus started immediately. Because of the coronavirus, I couldn't take the Japanese language test in Belarus. And I couldn't do it at all. I don't have the Japanese language test. But now you can take it anywhere. If you are interested, you can take it. When I started studying Japanese, I had to take the test. Will you take the test next month? No, in July. So, you will study JLPT in the Japanese language school? Yes, I think so. The school said so. I think you will study JLPT in the school curriculum. So you will take the JLPT test, right? Yes. But you don't have to go to the Japanese language school, right? I want to live in Japan. That's the only way. You can get a student visa.\n"
     ]
    }
   ],
   "source": [
    "audio_file = open(\"./artifacts/japanese_audio_test.mp4\", \"rb\")\n",
    "\n",
    "transcript = client.audio.translations.create(\n",
    "    model=\"whisper-1\",\n",
    "    file=audio_file,\n",
    "    temperature=0.1\n",
    ")\n",
    "\n",
    "print(transcript.text)"
   ]
  },
  {
   "cell_type": "code",
   "execution_count": 6,
   "metadata": {},
   "outputs": [
    {
     "name": "stdout",
     "output_type": "stream",
     "text": [
      "I couldn't study Japanese because of the COVID-19 after I started studying Japanese. Due to the COVID-19, I couldn't take Japanese language test in Belarus. I couldn't do it because there was no such exam. But you can go anywhere now. If you are interested… When I started taking Japanese language school, Is it necessary to take the exam? It's hard to get it. Do you study Japanese in next month? No, in July. So, we can't go there right now. Do you study JLPT in Japanese language school? Yes, I do. I mean, the school says so. Do you have the curriculum? So, you will take the exam for JLPT. Yes. But you don't have to go to Japanese language school. It's a means to live in Japan. To get the student visa.\n"
     ]
    }
   ],
   "source": [
    "audio_file = open(\"./artifacts/japanese_audio_test.mp4\", \"rb\")\n",
    "\n",
    "transcript = client.audio.translations.create(\n",
    "    model=\"whisper-1\",\n",
    "    file=audio_file,\n",
    "    temperature=0.9\n",
    ")\n",
    "\n",
    "print(transcript.text)"
   ]
  },
  {
   "cell_type": "markdown",
   "metadata": {},
   "source": [
    "## Segments and Words\n",
    "\n",
    "#### Japanese to English"
   ]
  },
  {
   "cell_type": "code",
   "execution_count": 10,
   "metadata": {},
   "outputs": [
    {
     "name": "stdout",
     "output_type": "stream",
     "text": [
      "Translation(text=\"I couldn't do it. After I started studying Japanese, COVID-19 started immediately. Because of COVID-19, I couldn't take the Japanese language test in Belarus. And I couldn't do it at all. I couldn't take the Japanese language test in Belarus. But now you can take the test anywhere. If you are interested, you can take the test. When I started studying Japanese, I had to take the test. Will you take the test next month? No, in July. It's quite early. Will you study JLPT in the Japanese language school? Yes, I think so. The school said so. I think I will study JLPT in the school curriculum. Then you will take the JLPT test, right? Yes. But you don't have to go to the Japanese language school, do you? I want to live in Japan. That's the only way. You can get a student visa.\", task='translate', language='english', duration=96.47000122070312, segments=[{'id': 0, 'seek': 0, 'start': 0.0, 'end': 2.0, 'text': \" I couldn't do it.\", 'tokens': [50364, 286, 2809, 380, 360, 309, 13, 50464], 'temperature': 0.0, 'avg_logprob': -0.5201385617256165, 'compression_ratio': 1.3851852416992188, 'no_speech_prob': 0.2355685979127884}, {'id': 1, 'seek': 0, 'start': 2.0, 'end': 8.0, 'text': ' After I started studying Japanese,', 'tokens': [50464, 2381, 286, 1409, 7601, 5433, 11, 50764], 'temperature': 0.0, 'avg_logprob': -0.5201385617256165, 'compression_ratio': 1.3851852416992188, 'no_speech_prob': 0.2355685979127884}, {'id': 2, 'seek': 0, 'start': 8.0, 'end': 14.0, 'text': ' COVID-19 started immediately.', 'tokens': [50764, 4566, 12, 3405, 1409, 4258, 13, 51064], 'temperature': 0.0, 'avg_logprob': -0.5201385617256165, 'compression_ratio': 1.3851852416992188, 'no_speech_prob': 0.2355685979127884}, {'id': 3, 'seek': 0, 'start': 14.0, 'end': 16.0, 'text': ' Because of COVID-19,', 'tokens': [51064, 1436, 295, 4566, 12, 3405, 11, 51164], 'temperature': 0.0, 'avg_logprob': -0.5201385617256165, 'compression_ratio': 1.3851852416992188, 'no_speech_prob': 0.2355685979127884}, {'id': 4, 'seek': 0, 'start': 16.0, 'end': 24.0, 'text': \" I couldn't take the Japanese language test in Belarus.\", 'tokens': [51164, 286, 2809, 380, 747, 264, 5433, 2856, 1500, 294, 35855, 13, 51564], 'temperature': 0.0, 'avg_logprob': -0.5201385617256165, 'compression_ratio': 1.3851852416992188, 'no_speech_prob': 0.2355685979127884}, {'id': 5, 'seek': 0, 'start': 24.0, 'end': 28.0, 'text': \" And I couldn't do it at all.\", 'tokens': [51564, 400, 286, 2809, 380, 360, 309, 412, 439, 13, 51764], 'temperature': 0.0, 'avg_logprob': -0.5201385617256165, 'compression_ratio': 1.3851852416992188, 'no_speech_prob': 0.2355685979127884}, {'id': 6, 'seek': 2800, 'start': 28.0, 'end': 35.0, 'text': \" I couldn't take the Japanese language test in Belarus.\", 'tokens': [50364, 286, 2809, 380, 747, 264, 5433, 2856, 1500, 294, 35855, 13, 50714], 'temperature': 0.0, 'avg_logprob': -0.5694432854652405, 'compression_ratio': 1.6291390657424927, 'no_speech_prob': 0.07415176928043365}, {'id': 7, 'seek': 2800, 'start': 35.0, 'end': 38.0, 'text': ' But now you can take the test anywhere.', 'tokens': [50714, 583, 586, 291, 393, 747, 264, 1500, 4992, 13, 50864], 'temperature': 0.0, 'avg_logprob': -0.5694432854652405, 'compression_ratio': 1.6291390657424927, 'no_speech_prob': 0.07415176928043365}, {'id': 8, 'seek': 2800, 'start': 38.0, 'end': 40.0, 'text': ' If you are interested, you can take the test.', 'tokens': [50864, 759, 291, 366, 3102, 11, 291, 393, 747, 264, 1500, 13, 50964], 'temperature': 0.0, 'avg_logprob': -0.5694432854652405, 'compression_ratio': 1.6291390657424927, 'no_speech_prob': 0.07415176928043365}, {'id': 9, 'seek': 2800, 'start': 40.0, 'end': 44.0, 'text': ' When I started studying Japanese,', 'tokens': [50964, 1133, 286, 1409, 7601, 5433, 11, 51164], 'temperature': 0.0, 'avg_logprob': -0.5694432854652405, 'compression_ratio': 1.6291390657424927, 'no_speech_prob': 0.07415176928043365}, {'id': 10, 'seek': 2800, 'start': 44.0, 'end': 48.0, 'text': ' I had to take the test.', 'tokens': [51164, 286, 632, 281, 747, 264, 1500, 13, 51364], 'temperature': 0.0, 'avg_logprob': -0.5694432854652405, 'compression_ratio': 1.6291390657424927, 'no_speech_prob': 0.07415176928043365}, {'id': 11, 'seek': 2800, 'start': 48.0, 'end': 52.0, 'text': ' Will you take the test next month?', 'tokens': [51364, 3099, 291, 747, 264, 1500, 958, 1618, 30, 51564], 'temperature': 0.0, 'avg_logprob': -0.5694432854652405, 'compression_ratio': 1.6291390657424927, 'no_speech_prob': 0.07415176928043365}, {'id': 12, 'seek': 2800, 'start': 52.0, 'end': 56.0, 'text': ' No, in July.', 'tokens': [51564, 883, 11, 294, 7370, 13, 51764], 'temperature': 0.0, 'avg_logprob': -0.5694432854652405, 'compression_ratio': 1.6291390657424927, 'no_speech_prob': 0.07415176928043365}, {'id': 13, 'seek': 5600, 'start': 56.0, 'end': 58.0, 'text': \" It's quite early.\", 'tokens': [50364, 467, 311, 1596, 2440, 13, 50464], 'temperature': 0.0, 'avg_logprob': -0.48949339985847473, 'compression_ratio': 1.4748201370239258, 'no_speech_prob': 0.16730628907680511}, {'id': 14, 'seek': 5600, 'start': 58.0, 'end': 65.0, 'text': ' Will you study JLPT in the Japanese language school?', 'tokens': [50464, 3099, 291, 2979, 508, 45196, 51, 294, 264, 5433, 2856, 1395, 30, 50814], 'temperature': 0.0, 'avg_logprob': -0.48949339985847473, 'compression_ratio': 1.4748201370239258, 'no_speech_prob': 0.16730628907680511}, {'id': 15, 'seek': 5600, 'start': 65.0, 'end': 67.0, 'text': ' Yes, I think so.', 'tokens': [50814, 1079, 11, 286, 519, 370, 13, 50914], 'temperature': 0.0, 'avg_logprob': -0.48949339985847473, 'compression_ratio': 1.4748201370239258, 'no_speech_prob': 0.16730628907680511}, {'id': 16, 'seek': 5600, 'start': 67.0, 'end': 71.0, 'text': ' The school said so.', 'tokens': [50914, 440, 1395, 848, 370, 13, 51114], 'temperature': 0.0, 'avg_logprob': -0.48949339985847473, 'compression_ratio': 1.4748201370239258, 'no_speech_prob': 0.16730628907680511}, {'id': 17, 'seek': 5600, 'start': 71.0, 'end': 76.0, 'text': ' I think I will study JLPT in the school curriculum.', 'tokens': [51114, 286, 519, 286, 486, 2979, 508, 45196, 51, 294, 264, 1395, 14302, 13, 51364], 'temperature': 0.0, 'avg_logprob': -0.48949339985847473, 'compression_ratio': 1.4748201370239258, 'no_speech_prob': 0.16730628907680511}, {'id': 18, 'seek': 5600, 'start': 76.0, 'end': 82.0, 'text': ' Then you will take the JLPT test, right?', 'tokens': [51364, 1396, 291, 486, 747, 264, 508, 45196, 51, 1500, 11, 558, 30, 51664], 'temperature': 0.0, 'avg_logprob': -0.48949339985847473, 'compression_ratio': 1.4748201370239258, 'no_speech_prob': 0.16730628907680511}, {'id': 19, 'seek': 5600, 'start': 82.0, 'end': 83.0, 'text': ' Yes.', 'tokens': [51664, 1079, 13, 51714], 'temperature': 0.0, 'avg_logprob': -0.48949339985847473, 'compression_ratio': 1.4748201370239258, 'no_speech_prob': 0.16730628907680511}, {'id': 20, 'seek': 8300, 'start': 83.0, 'end': 87.0, 'text': \" But you don't have to go to the Japanese language school, do you?\", 'tokens': [50364, 583, 291, 500, 380, 362, 281, 352, 281, 264, 5433, 2856, 1395, 11, 360, 291, 30, 50564], 'temperature': 0.0, 'avg_logprob': -0.44028836488723755, 'compression_ratio': 1.219298243522644, 'no_speech_prob': 0.7775018811225891}, {'id': 21, 'seek': 8300, 'start': 87.0, 'end': 89.0, 'text': ' I want to live in Japan.', 'tokens': [50564, 286, 528, 281, 1621, 294, 3367, 13, 50664], 'temperature': 0.0, 'avg_logprob': -0.44028836488723755, 'compression_ratio': 1.219298243522644, 'no_speech_prob': 0.7775018811225891}, {'id': 22, 'seek': 8300, 'start': 89.0, 'end': 92.0, 'text': \" That's the only way.\", 'tokens': [50664, 663, 311, 264, 787, 636, 13, 50814], 'temperature': 0.0, 'avg_logprob': -0.44028836488723755, 'compression_ratio': 1.219298243522644, 'no_speech_prob': 0.7775018811225891}, {'id': 23, 'seek': 8300, 'start': 92.0, 'end': 96.0, 'text': ' You can get a student visa.', 'tokens': [50814, 509, 393, 483, 257, 3107, 18589, 13, 51014], 'temperature': 0.0, 'avg_logprob': -0.44028836488723755, 'compression_ratio': 1.219298243522644, 'no_speech_prob': 0.7775018811225891}])\n",
      "\n",
      "\n",
      "\n",
      "I couldn't do it. After I started studying Japanese, COVID-19 started immediately. Because of COVID-19, I couldn't take the Japanese language test in Belarus. And I couldn't do it at all. I couldn't take the Japanese language test in Belarus. But now you can take the test anywhere. If you are interested, you can take the test. When I started studying Japanese, I had to take the test. Will you take the test next month? No, in July. It's quite early. Will you study JLPT in the Japanese language school? Yes, I think so. The school said so. I think I will study JLPT in the school curriculum. Then you will take the JLPT test, right? Yes. But you don't have to go to the Japanese language school, do you? I want to live in Japan. That's the only way. You can get a student visa.\n"
     ]
    }
   ],
   "source": [
    "audio_file = open(\"./artifacts/japanese_audio_test.mp4\", \"rb\")\n",
    "\n",
    "transcript = client.audio.translations.create(\n",
    "    model=\"whisper-1\",\n",
    "    file=audio_file,\n",
    "    temperature=0,\n",
    "    response_format=\"verbose_json\",\n",
    ")\n",
    "\n",
    "print(transcript)\n",
    "print(\"\\n\\n\")\n",
    "print(transcript.text)"
   ]
  }
 ],
 "metadata": {
  "kernelspec": {
   "display_name": "NormalProgramming",
   "language": "python",
   "name": "python3"
  },
  "language_info": {
   "codemirror_mode": {
    "name": "ipython",
    "version": 3
   },
   "file_extension": ".py",
   "mimetype": "text/x-python",
   "name": "python",
   "nbconvert_exporter": "python",
   "pygments_lexer": "ipython3",
   "version": "3.11.4"
  }
 },
 "nbformat": 4,
 "nbformat_minor": 2
}
