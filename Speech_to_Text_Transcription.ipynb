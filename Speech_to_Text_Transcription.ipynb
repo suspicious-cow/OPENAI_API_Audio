{
 "cells": [
  {
   "cell_type": "markdown",
   "metadata": {},
   "source": [
    "# Working with Audio - Whisper (Speech-to-Text) \n",
    "# Transcription"
   ]
  },
  {
   "cell_type": "markdown",
   "metadata": {},
   "source": [
    "## Univeral Code Used for the Entire Notebook\n",
    "\n",
    "Let's set up our libraries and client"
   ]
  },
  {
   "cell_type": "code",
   "execution_count": 1,
   "metadata": {},
   "outputs": [],
   "source": [
    "from openai import OpenAI  # For OpenAI API and event handling"
   ]
  },
  {
   "cell_type": "code",
   "execution_count": 2,
   "metadata": {},
   "outputs": [],
   "source": [
    "# Initialize the OpenAI client\n",
    "client = OpenAI()  "
   ]
  },
  {
   "cell_type": "markdown",
   "metadata": {},
   "source": [
    "### Create Transcription\n",
    "#### Request Body\n",
    "\n",
    "**file** `file`  **Required**  \n",
    "The audio file object (not file name) to transcribe, in one of these formats: flac, mp3, mp4, mpeg, mpga, m4a, ogg, wav, or webm.\n",
    "\n",
    "**model** `string`  **Required**  \n",
    "ID of the model to use. Only `whisper-1` (which is powered by our open source Whisper V2 model) is currently available.\n",
    "\n",
    "**language** `string`  **Optional**  \n",
    "The language of the input audio. Supplying the input language in **ISO-639-1** format will improve accuracy and latency.\n",
    "\n",
    "**prompt** `string`  **Optional**  \n",
    "An optional text to guide the model's style or continue a previous audio segment. The **prompt** should match the audio language.\n",
    "\n",
    "**response_format** `string`  **Optional** Defaults to json  \n",
    "The format of the transcript output, in one of these options: `json`, `text`, `srt`, `verbose_json`, or `vtt`.\n",
    "\n",
    "**temperature** `number`  **Optional** Defaults to 0  \n",
    "The sampling temperature, between 0 and 1. Higher values like 0.8 will make the output more random, while lower values like 0.2 will make it more focused and deterministic. If set to 0, the model will use **log probability** to automatically increase the temperature until certain thresholds are hit.\n",
    "\n",
    "**timestamp_granularities[]** `array`  **Optional** Defaults to segment  \n",
    "The timestamp granularities to populate for this transcription. **response_format** must be set to `verbose_json` to use timestamp granularities. Either or both of these options are supported: `word`, or `segment`. **Note**: There is no additional latency for segment timestamps, but generating word timestamps incurs additional latency.\n"
   ]
  },
  {
   "cell_type": "code",
   "execution_count": 5,
   "metadata": {},
   "outputs": [
    {
     "name": "stdout",
     "output_type": "stream",
     "text": [
      "Transcription(text='Mr. Vice President, Mr. Speaker, members of the Senate and the House of Representatives, yesterday, December 7th, 1941, a date which will live in infamy. The United States of America was suddenly and deliberately attacked by naval and air forces of the Empire of Japan. The United States was at peace with that nation and, at the solicitation of Japan, was still in conversation with its government and its emperor, looking toward the maintenance of peace in the Pacific. Indeed, one hour after Japanese air squadrons had commenced bombing in the American island of Oahu, the Japanese ambassador to the United States and his colleagues delivered to our Secretary of State a formal reply to a recent American message. And while this reply stated that it seemed useless to continue the existing diplomatic negotiations, it contained no threat or hint of war or of armed attack. It will be recorded that the distance of Hawaii from Japan makes it obvious that the attack was deliberately planned many days or even weeks ago. During the intervening time, the Japanese government has deliberately sought to deceive the United States by false statements and expressions of hope for continued peace. The attack yesterday on the Hawaiian island has caused severe damage to American naval and military forces. I regret to tell you that very many American lives have been lost. In addition, American ships have been reported torpedoed on the high seas between San Francisco and Honolulu. Yesterday, the Japanese government also launched an attack against Malaya. Last night, Japanese forces attacked Hong Kong. Last night, Japanese forces attacked Guam. Last night, Japanese forces attacked the Philippine island. Last night, the Japanese attacked Wake Island. And this morning, the Japanese attacked Midway Island. Japan has therefore undertaken a surprise offensive extending throughout the Pacific area. The facts of yesterday and today speak for themselves. The people of the United States have already formed their opinions and well understand the implications for the very life and safety of our nation. As Commander-in-Chief of the Army and Navy, I have directed that all measures be taken for our defense, but always will our whole nation remember the character of the onslaught against us. No matter how long it may take us to overcome this premeditated invasion, the American people in their righteous might will win through to absolute victory. I believe that I interpret the will of the Congress and of the people when I assert that we will not only defend ourselves to the uttermost, but will make it very certain that this form of treachery shall never again endanger us. Hostilities exist. There is no blinking at the fact that our people, our territory, and our interests are in grave danger. With confidence in our armed forces, with the unbounding determination of our people, we will gain the inevitable triumph. So help us God. I ask that the Congress declare that since the unprovoked and dastardly attack by Japan on Sunday, December 7, 1941, a state of war has existed between the United States and the Japanese Empire. Ladies and gentlemen, the National Anthem. The National Anthem. The National Anthem.')\n",
      "\n",
      "\n",
      "\n",
      "Mr. Vice President, Mr. Speaker, members of the Senate and the House of Representatives, yesterday, December 7th, 1941, a date which will live in infamy. The United States of America was suddenly and deliberately attacked by naval and air forces of the Empire of Japan. The United States was at peace with that nation and, at the solicitation of Japan, was still in conversation with its government and its emperor, looking toward the maintenance of peace in the Pacific. Indeed, one hour after Japanese air squadrons had commenced bombing in the American island of Oahu, the Japanese ambassador to the United States and his colleagues delivered to our Secretary of State a formal reply to a recent American message. And while this reply stated that it seemed useless to continue the existing diplomatic negotiations, it contained no threat or hint of war or of armed attack. It will be recorded that the distance of Hawaii from Japan makes it obvious that the attack was deliberately planned many days or even weeks ago. During the intervening time, the Japanese government has deliberately sought to deceive the United States by false statements and expressions of hope for continued peace. The attack yesterday on the Hawaiian island has caused severe damage to American naval and military forces. I regret to tell you that very many American lives have been lost. In addition, American ships have been reported torpedoed on the high seas between San Francisco and Honolulu. Yesterday, the Japanese government also launched an attack against Malaya. Last night, Japanese forces attacked Hong Kong. Last night, Japanese forces attacked Guam. Last night, Japanese forces attacked the Philippine island. Last night, the Japanese attacked Wake Island. And this morning, the Japanese attacked Midway Island. Japan has therefore undertaken a surprise offensive extending throughout the Pacific area. The facts of yesterday and today speak for themselves. The people of the United States have already formed their opinions and well understand the implications for the very life and safety of our nation. As Commander-in-Chief of the Army and Navy, I have directed that all measures be taken for our defense, but always will our whole nation remember the character of the onslaught against us. No matter how long it may take us to overcome this premeditated invasion, the American people in their righteous might will win through to absolute victory. I believe that I interpret the will of the Congress and of the people when I assert that we will not only defend ourselves to the uttermost, but will make it very certain that this form of treachery shall never again endanger us. Hostilities exist. There is no blinking at the fact that our people, our territory, and our interests are in grave danger. With confidence in our armed forces, with the unbounding determination of our people, we will gain the inevitable triumph. So help us God. I ask that the Congress declare that since the unprovoked and dastardly attack by Japan on Sunday, December 7, 1941, a state of war has existed between the United States and the Japanese Empire. Ladies and gentlemen, the National Anthem. The National Anthem. The National Anthem.\n"
     ]
    }
   ],
   "source": [
    "from openai import OpenAI\n",
    "client = OpenAI()\n",
    "\n",
    "audio_file = open(\"./artifacts/fdr_speech.mp3\", \"rb\")\n",
    "transcript = client.audio.transcriptions.create(\n",
    "    model=\"whisper-1\",\n",
    "    file=audio_file\n",
    ")\n",
    "\n",
    "print(transcript)\n",
    "print(\"\\n\\n\")\n",
    "print(transcript.text)"
   ]
  }
 ],
 "metadata": {
  "kernelspec": {
   "display_name": "NormalProgramming",
   "language": "python",
   "name": "python3"
  },
  "language_info": {
   "codemirror_mode": {
    "name": "ipython",
    "version": 3
   },
   "file_extension": ".py",
   "mimetype": "text/x-python",
   "name": "python",
   "nbconvert_exporter": "python",
   "pygments_lexer": "ipython3",
   "version": "3.11.4"
  }
 },
 "nbformat": 4,
 "nbformat_minor": 2
}
